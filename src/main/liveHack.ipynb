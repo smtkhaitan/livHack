{
 "cells": [
  {
   "cell_type": "code",
   "execution_count": 1,
   "metadata": {
    "collapsed": true
   },
   "outputs": [
    {
     "name": "stderr",
     "output_type": "stream",
     "text": [
      "Using TensorFlow backend.\n"
     ]
    }
   ],
   "source": [
    "import os\n",
    "import glob\n",
    "import tqdm\n",
    "import numpy as np\n",
    "import scipy.ndimage\n",
    "import scipy.misc\n",
    "from keras.models import Sequential\n",
    "from keras.applications.resnet50 import ResNet50\n",
    "from sklearn.cluster import KMeans\n",
    "import subprocess\n",
    "import shutil\n",
    "import cv2\n",
    "from keras.applications.imagenet_utils import preprocess_input"
   ]
  },
  {
   "cell_type": "code",
   "execution_count": 2,
   "metadata": {},
   "outputs": [],
   "source": [
    "my_new_model = Sequential()\n",
    "my_new_model.add(ResNet50(include_top=False, pooling='avg', weights='imagenet'))\n",
    "\n",
    "# Say not to train first layer (ResNet) model. It is already trained\n",
    "my_new_model.layers[0].trainable = False"
   ]
  },
  {
   "cell_type": "code",
   "execution_count": 3,
   "metadata": {},
   "outputs": [],
   "source": [
    "images_name  = []\n",
    "def extract_vector(path):\n",
    "    resnet_feature_list = []\n",
    "\n",
    "    for im in glob.glob(path):\n",
    "        print(im.split(\"/\")[6])\n",
    "        images_name.append(im.split(\"/\")[6])\n",
    "        im = cv2.imread(im)\n",
    "        im = cv2.resize(im,(224,224))\n",
    "        img = preprocess_input(np.expand_dims(im.copy(), axis=0))\n",
    "        resnet_feature = my_new_model.predict(img)\n",
    "        resnet_feature_np = np.array(resnet_feature)\n",
    "        resnet_feature_list.append(resnet_feature_np.flatten())\n",
    "\n",
    "    return np.array(resnet_feature_list)"
   ]
  },
  {
   "cell_type": "code",
   "execution_count": 4,
   "metadata": {},
   "outputs": [
    {
     "name": "stdout",
     "output_type": "stream",
     "text": [
      "602.460.80.jpg\n"
     ]
    },
    {
     "name": "stdout",
     "output_type": "stream",
     "text": [
      "303.270.68.jpg\n"
     ]
    },
    {
     "name": "stdout",
     "output_type": "stream",
     "text": [
      "502.595.01.jpg\n"
     ]
    },
    {
     "name": "stdout",
     "output_type": "stream",
     "text": [
      "902.642.18.jpg\n"
     ]
    },
    {
     "name": "stdout",
     "output_type": "stream",
     "text": [
      "490.904.81.jpg\n"
     ]
    },
    {
     "name": "stdout",
     "output_type": "stream",
     "text": [
      "002.460.78.jpg\n"
     ]
    },
    {
     "name": "stdout",
     "output_type": "stream",
     "text": [
      "901.011.13.jpg\n"
     ]
    },
    {
     "name": "stdout",
     "output_type": "stream",
     "text": [
      "190.310.06.jpg\n"
     ]
    },
    {
     "name": "stdout",
     "output_type": "stream",
     "text": [
      "202.085.27.jpg\n"
     ]
    },
    {
     "name": "stdout",
     "output_type": "stream",
     "text": [
      "301.165.51.jpg\n"
     ]
    },
    {
     "name": "stdout",
     "output_type": "stream",
     "text": [
      "399.030.41.jpg\n"
     ]
    },
    {
     "name": "stdout",
     "output_type": "stream",
     "text": [
      "102.335.32.jpg\n"
     ]
    },
    {
     "name": "stdout",
     "output_type": "stream",
     "text": [
      "290.066.95.jpg\n"
     ]
    },
    {
     "name": "stdout",
     "output_type": "stream",
     "text": [
      "502.400.31.jpg\n"
     ]
    },
    {
     "name": "stdout",
     "output_type": "stream",
     "text": [
      "602.470.51.jpg\n"
     ]
    },
    {
     "name": "stdout",
     "output_type": "stream",
     "text": [
      "902.874.13.jpg\n"
     ]
    },
    {
     "name": "stdout",
     "output_type": "stream",
     "text": [
      "201.150.38.jpg\n"
     ]
    },
    {
     "name": "stdout",
     "output_type": "stream",
     "text": [
      "690.335.45.jpg\n"
     ]
    },
    {
     "name": "stdout",
     "output_type": "stream",
     "text": [
      "900.954.28.jpg\n"
     ]
    },
    {
     "name": "stdout",
     "output_type": "stream",
     "text": [
      "598.501.07.jpg\n"
     ]
    },
    {
     "name": "stdout",
     "output_type": "stream",
     "text": [
      "001.530.69.jpg\n"
     ]
    },
    {
     "name": "stdout",
     "output_type": "stream",
     "text": [
      "702.068.04.jpg\n"
     ]
    },
    {
     "name": "stdout",
     "output_type": "stream",
     "text": [
      "502.345.82.jpg\n"
     ]
    },
    {
     "name": "stdout",
     "output_type": "stream",
     "text": [
      "503.056.16.jpg\n"
     ]
    },
    {
     "name": "stdout",
     "output_type": "stream",
     "text": [
      "802.396.82.jpg\n"
     ]
    },
    {
     "name": "stdout",
     "output_type": "stream",
     "text": [
      "491.295.82.jpg\n"
     ]
    },
    {
     "name": "stdout",
     "output_type": "stream",
     "text": [
      "802.017.40.jpg\n"
     ]
    },
    {
     "name": "stdout",
     "output_type": "stream",
     "text": [
      "902.142.85.jpg\n"
     ]
    },
    {
     "name": "stdout",
     "output_type": "stream",
     "text": [
      "090.066.63.jpg\n"
     ]
    },
    {
     "name": "stdout",
     "output_type": "stream",
     "text": [
      "702.535.41.jpg\n"
     ]
    },
    {
     "name": "stdout",
     "output_type": "stream",
     "text": [
      "103.262.77.jpg\n"
     ]
    },
    {
     "name": "stdout",
     "output_type": "stream",
     "text": [
      "490.473.41.jpg\n"
     ]
    },
    {
     "name": "stdout",
     "output_type": "stream",
     "text": [
      "603.347.36.jpg\n"
     ]
    },
    {
     "name": "stdout",
     "output_type": "stream",
     "text": [
      "498.984.35.jpg\n"
     ]
    },
    {
     "name": "stdout",
     "output_type": "stream",
     "text": [
      "202.013.33.jpg\n"
     ]
    },
    {
     "name": "stdout",
     "output_type": "stream",
     "text": [
      "591.278.08.jpg\n"
     ]
    },
    {
     "name": "stdout",
     "output_type": "stream",
     "text": [
      "202.396.80.jpg\n"
     ]
    },
    {
     "name": "stdout",
     "output_type": "stream",
     "text": [
      "791.278.07.jpg\n"
     ]
    },
    {
     "name": "stdout",
     "output_type": "stream",
     "text": [
      "400.441.96.jpg\n"
     ]
    },
    {
     "name": "stdout",
     "output_type": "stream",
     "text": [
      "402.805.17.jpg\n"
     ]
    },
    {
     "name": "stdout",
     "output_type": "stream",
     "text": [
      "402.096.15.jpg\n"
     ]
    },
    {
     "name": "stdout",
     "output_type": "stream",
     "text": [
      "003.015.26.jpg\n"
     ]
    },
    {
     "name": "stdout",
     "output_type": "stream",
     "text": [
      "402.808.43.jpg\n"
     ]
    },
    {
     "name": "stdout",
     "output_type": "stream",
     "text": [
      "401.536.99.jpg\n"
     ]
    },
    {
     "name": "stdout",
     "output_type": "stream",
     "text": [
      "502.675.58.jpg\n"
     ]
    },
    {
     "name": "stdout",
     "output_type": "stream",
     "text": [
      "198.850.43.jpg\n"
     ]
    },
    {
     "name": "stdout",
     "output_type": "stream",
     "text": [
      "500.583.76.jpg\n"
     ]
    },
    {
     "name": "stdout",
     "output_type": "stream",
     "text": [
      "302.332.44.jpg\n"
     ]
    },
    {
     "name": "stdout",
     "output_type": "stream",
     "text": [
      "391.278.09.jpg\n"
     ]
    },
    {
     "name": "stdout",
     "output_type": "stream",
     "text": [
      "302.882.36.jpg\n"
     ]
    },
    {
     "name": "stdout",
     "output_type": "stream",
     "text": [
      "202.927.76.jpg\n"
     ]
    },
    {
     "name": "stdout",
     "output_type": "stream",
     "text": [
      "890.066.83.jpg\n"
     ]
    },
    {
     "name": "stdout",
     "output_type": "stream",
     "text": [
      "191.278.10.jpg\n"
     ]
    },
    {
     "name": "stdout",
     "output_type": "stream",
     "text": [
      "202.800.33.jpg\n"
     ]
    },
    {
     "name": "stdout",
     "output_type": "stream",
     "text": [
      "502.954.72.jpg\n"
     ]
    },
    {
     "name": "stdout",
     "output_type": "stream",
     "text": [
      "101.746.41.jpg\n"
     ]
    },
    {
     "name": "stdout",
     "output_type": "stream",
     "text": [
      "903.347.30.jpg\n"
     ]
    },
    {
     "name": "stdout",
     "output_type": "stream",
     "text": [
      "101.168.49.jpg\n"
     ]
    },
    {
     "name": "stdout",
     "output_type": "stream",
     "text": [
      "002.387.14.jpg\n"
     ]
    },
    {
     "name": "stdout",
     "output_type": "stream",
     "text": [
      "391.505.88.jpg\n"
     ]
    },
    {
     "name": "stdout",
     "output_type": "stream",
     "text": [
      "902.177.93.jpg\n"
     ]
    },
    {
     "name": "stdout",
     "output_type": "stream",
     "text": [
      "702.381.88.jpg\n"
     ]
    },
    {
     "name": "stdout",
     "output_type": "stream",
     "text": [
      "390.108.90.jpg\n"
     ]
    },
    {
     "name": "stdout",
     "output_type": "stream",
     "text": [
      "790.462.60.jpg\n"
     ]
    },
    {
     "name": "stdout",
     "output_type": "stream",
     "text": [
      "101.150.67.jpg\n"
     ]
    },
    {
     "name": "stdout",
     "output_type": "stream",
     "text": [
      "402.753.42.jpg\n"
     ]
    },
    {
     "name": "stdout",
     "output_type": "stream",
     "text": [
      "590.483.97.jpg\n"
     ]
    },
    {
     "name": "stdout",
     "output_type": "stream",
     "text": [
      "302.249.04.jpg\n"
     ]
    },
    {
     "name": "stdout",
     "output_type": "stream",
     "text": [
      "991.506.46.jpg\n"
     ]
    },
    {
     "name": "stdout",
     "output_type": "stream",
     "text": [
      "103.064.39.jpg\n"
     ]
    },
    {
     "name": "stdout",
     "output_type": "stream",
     "text": [
      "002.110.88.jpg\n"
     ]
    },
    {
     "name": "stdout",
     "output_type": "stream",
     "text": [
      "401.822.44.jpg\n"
     ]
    },
    {
     "name": "stdout",
     "output_type": "stream",
     "text": [
      "102.604.60.jpg\n"
     ]
    },
    {
     "name": "stdout",
     "output_type": "stream",
     "text": [
      "490.912.49.jpg\n"
     ]
    },
    {
     "name": "stdout",
     "output_type": "stream",
     "text": [
      "202.396.99.jpg\n"
     ]
    },
    {
     "name": "stdout",
     "output_type": "stream",
     "text": [
      "001.652.13.jpg\n"
     ]
    },
    {
     "name": "stdout",
     "output_type": "stream",
     "text": [
      "902.639.02.jpg\n"
     ]
    },
    {
     "name": "stdout",
     "output_type": "stream",
     "text": [
      "902.530.74.jpg\n"
     ]
    },
    {
     "name": "stdout",
     "output_type": "stream",
     "text": [
      "702.790.70.jpg\n"
     ]
    },
    {
     "name": "stdout",
     "output_type": "stream",
     "text": [
      "802.340.19.jpg\n"
     ]
    },
    {
     "name": "stdout",
     "output_type": "stream",
     "text": [
      "202.016.82.jpg\n"
     ]
    },
    {
     "name": "stdout",
     "output_type": "stream",
     "text": [
      "402.288.12.jpg\n"
     ]
    },
    {
     "name": "stdout",
     "output_type": "stream",
     "text": [
      "402.177.95.jpg\n"
     ]
    },
    {
     "name": "stdout",
     "output_type": "stream",
     "text": [
      "501.784.11.jpg\n"
     ]
    },
    {
     "name": "stdout",
     "output_type": "stream",
     "text": [
      "801.638.04.jpg\n"
     ]
    },
    {
     "name": "stdout",
     "output_type": "stream",
     "text": [
      "602.178.22.jpg\n"
     ]
    },
    {
     "name": "stdout",
     "output_type": "stream",
     "text": [
      "601.963.58.jpg\n"
     ]
    },
    {
     "name": "stdout",
     "output_type": "stream",
     "text": [
      "690.473.40.jpg\n"
     ]
    },
    {
     "name": "stdout",
     "output_type": "stream",
     "text": [
      "790.066.93.jpg\n"
     ]
    },
    {
     "name": "stdout",
     "output_type": "stream",
     "text": [
      "103.203.41.jpg\n"
     ]
    },
    {
     "name": "stdout",
     "output_type": "stream",
     "text": [
      "102.191.78.jpg\n"
     ]
    },
    {
     "name": "stdout",
     "output_type": "stream",
     "text": [
      "902.535.35.jpg\n"
     ]
    },
    {
     "name": "stdout",
     "output_type": "stream",
     "text": [
      "891.278.02.jpg\n"
     ]
    },
    {
     "name": "stdout",
     "output_type": "stream",
     "text": [
      "590.335.55.jpg\n"
     ]
    },
    {
     "name": "stdout",
     "output_type": "stream",
     "text": [
      "991.278.11.jpg\n"
     ]
    },
    {
     "name": "stdout",
     "output_type": "stream",
     "text": [
      "902.675.56.jpg\n"
     ]
    },
    {
     "name": "stdout",
     "output_type": "stream",
     "text": [
      "802.251.66.jpg\n"
     ]
    },
    {
     "name": "stdout",
     "output_type": "stream",
     "text": [
      "903.200.97.jpg\n"
     ]
    },
    {
     "name": "stdout",
     "output_type": "stream",
     "text": [
      "302.625.28.jpg\n"
     ]
    },
    {
     "name": "stdout",
     "output_type": "stream",
     "text": [
      "902.396.67.jpg\n"
     ]
    },
    {
     "name": "stdout",
     "output_type": "stream",
     "text": [
      "991.278.06.jpg\n"
     ]
    },
    {
     "name": "stdout",
     "output_type": "stream",
     "text": [
      "701.032.50.jpg\n"
     ]
    },
    {
     "name": "stdout",
     "output_type": "stream",
     "text": [
      "890.417.09.jpg\n"
     ]
    },
    {
     "name": "stdout",
     "output_type": "stream",
     "text": [
      "002.224.40.jpg\n"
     ]
    },
    {
     "name": "stdout",
     "output_type": "stream",
     "text": [
      "802.671.37.jpg\n"
     ]
    },
    {
     "name": "stdout",
     "output_type": "stream",
     "text": [
      "100.998.97.jpg\n"
     ]
    },
    {
     "name": "stdout",
     "output_type": "stream",
     "text": [
      "[8 7 5 0 3 8 7 3 4 3 0 3 2 4 4 6 5 9 7 0 7 1 1 9 0 9 4 5 2 1 5 0 7 1 5 8 0\n 8 4 8 4 4 1 4 8 2 5 5 8 1 2 2 8 2 7 6 7 4 8 3 7 4 3 2 7 4 4 0 9 5 4 4 5 2\n 3 8 4 4 2 5 5 1 7 4 7 1 4 0 2 5 5 1 8 9 8 8 1 5 1 0 8 4 8 7 8 1]\n/Users/sumit.khaitan/Desktop/livspace/chair/602.460.80.jpg /Users/sumit.khaitan/Desktop/livspace/chair/8\n/Users/sumit.khaitan/Desktop/livspace/chair/303.270.68.jpg /Users/sumit.khaitan/Desktop/livspace/chair/7\n/Users/sumit.khaitan/Desktop/livspace/chair/502.595.01.jpg /Users/sumit.khaitan/Desktop/livspace/chair/5\n/Users/sumit.khaitan/Desktop/livspace/chair/902.642.18.jpg /Users/sumit.khaitan/Desktop/livspace/chair/0\n/Users/sumit.khaitan/Desktop/livspace/chair/490.904.81.jpg /Users/sumit.khaitan/Desktop/livspace/chair/3\n/Users/sumit.khaitan/Desktop/livspace/chair/002.460.78.jpg /Users/sumit.khaitan/Desktop/livspace/chair/8\n/Users/sumit.khaitan/Desktop/livspace/chair/901.011.13.jpg /Users/sumit.khaitan/Desktop/livspace/chair/7\n/Users/sumit.khaitan/Desktop/livspace/chair/190.310.06.jpg /Users/sumit.khaitan/Desktop/livspace/chair/3\n/Users/sumit.khaitan/Desktop/livspace/chair/202.085.27.jpg /Users/sumit.khaitan/Desktop/livspace/chair/4\n/Users/sumit.khaitan/Desktop/livspace/chair/301.165.51.jpg /Users/sumit.khaitan/Desktop/livspace/chair/3\n/Users/sumit.khaitan/Desktop/livspace/chair/399.030.41.jpg /Users/sumit.khaitan/Desktop/livspace/chair/0\n/Users/sumit.khaitan/Desktop/livspace/chair/102.335.32.jpg /Users/sumit.khaitan/Desktop/livspace/chair/3\n/Users/sumit.khaitan/Desktop/livspace/chair/290.066.95.jpg /Users/sumit.khaitan/Desktop/livspace/chair/2\n/Users/sumit.khaitan/Desktop/livspace/chair/502.400.31.jpg /Users/sumit.khaitan/Desktop/livspace/chair/4\n/Users/sumit.khaitan/Desktop/livspace/chair/602.470.51.jpg /Users/sumit.khaitan/Desktop/livspace/chair/4\n/Users/sumit.khaitan/Desktop/livspace/chair/902.874.13.jpg /Users/sumit.khaitan/Desktop/livspace/chair/6\n/Users/sumit.khaitan/Desktop/livspace/chair/201.150.38.jpg /Users/sumit.khaitan/Desktop/livspace/chair/5\n/Users/sumit.khaitan/Desktop/livspace/chair/690.335.45.jpg /Users/sumit.khaitan/Desktop/livspace/chair/9\n/Users/sumit.khaitan/Desktop/livspace/chair/900.954.28.jpg /Users/sumit.khaitan/Desktop/livspace/chair/7\n/Users/sumit.khaitan/Desktop/livspace/chair/598.501.07.jpg /Users/sumit.khaitan/Desktop/livspace/chair/0\n/Users/sumit.khaitan/Desktop/livspace/chair/001.530.69.jpg /Users/sumit.khaitan/Desktop/livspace/chair/7\n/Users/sumit.khaitan/Desktop/livspace/chair/702.068.04.jpg /Users/sumit.khaitan/Desktop/livspace/chair/1\n/Users/sumit.khaitan/Desktop/livspace/chair/502.345.82.jpg /Users/sumit.khaitan/Desktop/livspace/chair/1\n/Users/sumit.khaitan/Desktop/livspace/chair/503.056.16.jpg /Users/sumit.khaitan/Desktop/livspace/chair/9\n/Users/sumit.khaitan/Desktop/livspace/chair/802.396.82.jpg /Users/sumit.khaitan/Desktop/livspace/chair/0\n/Users/sumit.khaitan/Desktop/livspace/chair/491.295.82.jpg /Users/sumit.khaitan/Desktop/livspace/chair/9\n/Users/sumit.khaitan/Desktop/livspace/chair/802.017.40.jpg /Users/sumit.khaitan/Desktop/livspace/chair/4\n/Users/sumit.khaitan/Desktop/livspace/chair/902.142.85.jpg /Users/sumit.khaitan/Desktop/livspace/chair/5\n/Users/sumit.khaitan/Desktop/livspace/chair/090.066.63.jpg /Users/sumit.khaitan/Desktop/livspace/chair/2\n/Users/sumit.khaitan/Desktop/livspace/chair/702.535.41.jpg /Users/sumit.khaitan/Desktop/livspace/chair/1\n/Users/sumit.khaitan/Desktop/livspace/chair/103.262.77.jpg /Users/sumit.khaitan/Desktop/livspace/chair/5\n/Users/sumit.khaitan/Desktop/livspace/chair/490.473.41.jpg /Users/sumit.khaitan/Desktop/livspace/chair/0\n/Users/sumit.khaitan/Desktop/livspace/chair/603.347.36.jpg /Users/sumit.khaitan/Desktop/livspace/chair/7\n/Users/sumit.khaitan/Desktop/livspace/chair/498.984.35.jpg /Users/sumit.khaitan/Desktop/livspace/chair/1\n/Users/sumit.khaitan/Desktop/livspace/chair/202.013.33.jpg /Users/sumit.khaitan/Desktop/livspace/chair/5\n/Users/sumit.khaitan/Desktop/livspace/chair/591.278.08.jpg /Users/sumit.khaitan/Desktop/livspace/chair/8\n/Users/sumit.khaitan/Desktop/livspace/chair/202.396.80.jpg /Users/sumit.khaitan/Desktop/livspace/chair/0\n/Users/sumit.khaitan/Desktop/livspace/chair/791.278.07.jpg /Users/sumit.khaitan/Desktop/livspace/chair/8\n/Users/sumit.khaitan/Desktop/livspace/chair/400.441.96.jpg /Users/sumit.khaitan/Desktop/livspace/chair/4\n/Users/sumit.khaitan/Desktop/livspace/chair/402.805.17.jpg /Users/sumit.khaitan/Desktop/livspace/chair/8\n/Users/sumit.khaitan/Desktop/livspace/chair/402.096.15.jpg /Users/sumit.khaitan/Desktop/livspace/chair/4\n/Users/sumit.khaitan/Desktop/livspace/chair/003.015.26.jpg /Users/sumit.khaitan/Desktop/livspace/chair/4\n/Users/sumit.khaitan/Desktop/livspace/chair/402.808.43.jpg /Users/sumit.khaitan/Desktop/livspace/chair/1\n/Users/sumit.khaitan/Desktop/livspace/chair/401.536.99.jpg /Users/sumit.khaitan/Desktop/livspace/chair/4\n/Users/sumit.khaitan/Desktop/livspace/chair/502.675.58.jpg /Users/sumit.khaitan/Desktop/livspace/chair/8\n/Users/sumit.khaitan/Desktop/livspace/chair/198.850.43.jpg /Users/sumit.khaitan/Desktop/livspace/chair/2\n/Users/sumit.khaitan/Desktop/livspace/chair/500.583.76.jpg /Users/sumit.khaitan/Desktop/livspace/chair/5\n/Users/sumit.khaitan/Desktop/livspace/chair/302.332.44.jpg /Users/sumit.khaitan/Desktop/livspace/chair/5\n/Users/sumit.khaitan/Desktop/livspace/chair/391.278.09.jpg /Users/sumit.khaitan/Desktop/livspace/chair/8\n/Users/sumit.khaitan/Desktop/livspace/chair/302.882.36.jpg /Users/sumit.khaitan/Desktop/livspace/chair/1\n/Users/sumit.khaitan/Desktop/livspace/chair/202.927.76.jpg /Users/sumit.khaitan/Desktop/livspace/chair/2\n/Users/sumit.khaitan/Desktop/livspace/chair/890.066.83.jpg /Users/sumit.khaitan/Desktop/livspace/chair/2\n/Users/sumit.khaitan/Desktop/livspace/chair/191.278.10.jpg /Users/sumit.khaitan/Desktop/livspace/chair/8\n/Users/sumit.khaitan/Desktop/livspace/chair/202.800.33.jpg /Users/sumit.khaitan/Desktop/livspace/chair/2\n/Users/sumit.khaitan/Desktop/livspace/chair/502.954.72.jpg /Users/sumit.khaitan/Desktop/livspace/chair/7\n/Users/sumit.khaitan/Desktop/livspace/chair/101.746.41.jpg /Users/sumit.khaitan/Desktop/livspace/chair/6\n/Users/sumit.khaitan/Desktop/livspace/chair/903.347.30.jpg /Users/sumit.khaitan/Desktop/livspace/chair/7\n/Users/sumit.khaitan/Desktop/livspace/chair/101.168.49.jpg /Users/sumit.khaitan/Desktop/livspace/chair/4\n/Users/sumit.khaitan/Desktop/livspace/chair/002.387.14.jpg /Users/sumit.khaitan/Desktop/livspace/chair/8\n/Users/sumit.khaitan/Desktop/livspace/chair/391.505.88.jpg /Users/sumit.khaitan/Desktop/livspace/chair/3\n/Users/sumit.khaitan/Desktop/livspace/chair/902.177.93.jpg /Users/sumit.khaitan/Desktop/livspace/chair/7\n/Users/sumit.khaitan/Desktop/livspace/chair/702.381.88.jpg /Users/sumit.khaitan/Desktop/livspace/chair/4\n/Users/sumit.khaitan/Desktop/livspace/chair/390.108.90.jpg /Users/sumit.khaitan/Desktop/livspace/chair/3\n/Users/sumit.khaitan/Desktop/livspace/chair/790.462.60.jpg /Users/sumit.khaitan/Desktop/livspace/chair/2\n/Users/sumit.khaitan/Desktop/livspace/chair/101.150.67.jpg /Users/sumit.khaitan/Desktop/livspace/chair/7\n/Users/sumit.khaitan/Desktop/livspace/chair/402.753.42.jpg /Users/sumit.khaitan/Desktop/livspace/chair/4\n/Users/sumit.khaitan/Desktop/livspace/chair/590.483.97.jpg /Users/sumit.khaitan/Desktop/livspace/chair/4\n/Users/sumit.khaitan/Desktop/livspace/chair/302.249.04.jpg /Users/sumit.khaitan/Desktop/livspace/chair/0\n/Users/sumit.khaitan/Desktop/livspace/chair/991.506.46.jpg /Users/sumit.khaitan/Desktop/livspace/chair/9\n/Users/sumit.khaitan/Desktop/livspace/chair/103.064.39.jpg /Users/sumit.khaitan/Desktop/livspace/chair/5\n/Users/sumit.khaitan/Desktop/livspace/chair/002.110.88.jpg /Users/sumit.khaitan/Desktop/livspace/chair/4\n/Users/sumit.khaitan/Desktop/livspace/chair/401.822.44.jpg /Users/sumit.khaitan/Desktop/livspace/chair/4\n/Users/sumit.khaitan/Desktop/livspace/chair/102.604.60.jpg /Users/sumit.khaitan/Desktop/livspace/chair/5\n/Users/sumit.khaitan/Desktop/livspace/chair/490.912.49.jpg /Users/sumit.khaitan/Desktop/livspace/chair/2\n/Users/sumit.khaitan/Desktop/livspace/chair/202.396.99.jpg /Users/sumit.khaitan/Desktop/livspace/chair/3\n/Users/sumit.khaitan/Desktop/livspace/chair/001.652.13.jpg /Users/sumit.khaitan/Desktop/livspace/chair/8\n/Users/sumit.khaitan/Desktop/livspace/chair/902.639.02.jpg /Users/sumit.khaitan/Desktop/livspace/chair/4\n/Users/sumit.khaitan/Desktop/livspace/chair/902.530.74.jpg /Users/sumit.khaitan/Desktop/livspace/chair/4\n/Users/sumit.khaitan/Desktop/livspace/chair/702.790.70.jpg /Users/sumit.khaitan/Desktop/livspace/chair/2\n/Users/sumit.khaitan/Desktop/livspace/chair/802.340.19.jpg /Users/sumit.khaitan/Desktop/livspace/chair/5\n/Users/sumit.khaitan/Desktop/livspace/chair/202.016.82.jpg /Users/sumit.khaitan/Desktop/livspace/chair/5\n/Users/sumit.khaitan/Desktop/livspace/chair/402.288.12.jpg /Users/sumit.khaitan/Desktop/livspace/chair/1\n/Users/sumit.khaitan/Desktop/livspace/chair/402.177.95.jpg /Users/sumit.khaitan/Desktop/livspace/chair/7\n/Users/sumit.khaitan/Desktop/livspace/chair/501.784.11.jpg /Users/sumit.khaitan/Desktop/livspace/chair/4\n/Users/sumit.khaitan/Desktop/livspace/chair/801.638.04.jpg /Users/sumit.khaitan/Desktop/livspace/chair/7\n/Users/sumit.khaitan/Desktop/livspace/chair/602.178.22.jpg /Users/sumit.khaitan/Desktop/livspace/chair/1\n/Users/sumit.khaitan/Desktop/livspace/chair/601.963.58.jpg /Users/sumit.khaitan/Desktop/livspace/chair/4\n/Users/sumit.khaitan/Desktop/livspace/chair/690.473.40.jpg /Users/sumit.khaitan/Desktop/livspace/chair/0\n/Users/sumit.khaitan/Desktop/livspace/chair/790.066.93.jpg /Users/sumit.khaitan/Desktop/livspace/chair/2\n/Users/sumit.khaitan/Desktop/livspace/chair/103.203.41.jpg /Users/sumit.khaitan/Desktop/livspace/chair/5\n/Users/sumit.khaitan/Desktop/livspace/chair/102.191.78.jpg /Users/sumit.khaitan/Desktop/livspace/chair/5\n/Users/sumit.khaitan/Desktop/livspace/chair/902.535.35.jpg /Users/sumit.khaitan/Desktop/livspace/chair/1\n/Users/sumit.khaitan/Desktop/livspace/chair/891.278.02.jpg /Users/sumit.khaitan/Desktop/livspace/chair/8\n/Users/sumit.khaitan/Desktop/livspace/chair/590.335.55.jpg /Users/sumit.khaitan/Desktop/livspace/chair/9\n/Users/sumit.khaitan/Desktop/livspace/chair/991.278.11.jpg /Users/sumit.khaitan/Desktop/livspace/chair/8\n/Users/sumit.khaitan/Desktop/livspace/chair/902.675.56.jpg /Users/sumit.khaitan/Desktop/livspace/chair/8\n/Users/sumit.khaitan/Desktop/livspace/chair/802.251.66.jpg /Users/sumit.khaitan/Desktop/livspace/chair/1\n/Users/sumit.khaitan/Desktop/livspace/chair/903.200.97.jpg /Users/sumit.khaitan/Desktop/livspace/chair/5\n/Users/sumit.khaitan/Desktop/livspace/chair/302.625.28.jpg /Users/sumit.khaitan/Desktop/livspace/chair/1\n/Users/sumit.khaitan/Desktop/livspace/chair/902.396.67.jpg /Users/sumit.khaitan/Desktop/livspace/chair/0\n/Users/sumit.khaitan/Desktop/livspace/chair/991.278.06.jpg /Users/sumit.khaitan/Desktop/livspace/chair/8\n/Users/sumit.khaitan/Desktop/livspace/chair/701.032.50.jpg /Users/sumit.khaitan/Desktop/livspace/chair/4\n/Users/sumit.khaitan/Desktop/livspace/chair/890.417.09.jpg /Users/sumit.khaitan/Desktop/livspace/chair/8\n/Users/sumit.khaitan/Desktop/livspace/chair/002.224.40.jpg /Users/sumit.khaitan/Desktop/livspace/chair/7\n/Users/sumit.khaitan/Desktop/livspace/chair/802.671.37.jpg /Users/sumit.khaitan/Desktop/livspace/chair/8\n/Users/sumit.khaitan/Desktop/livspace/chair/100.998.97.jpg /Users/sumit.khaitan/Desktop/livspace/chair/1\n"
     ]
    }
   ],
   "source": [
    "object_type = \"chair\"\n",
    "path = \"/Users/sumit.khaitan/Desktop/livspace/\"+object_type+\"/\"\n",
    "kmeans = KMeans(n_clusters=10, random_state=0).fit(extract_vector(path+\"*.jpg\"))\n",
    "print(kmeans.labels_)\n",
    "\n",
    "for j in range(0,10):\n",
    "    if not os.path.exists(path+str(j)):\n",
    "        os.makedirs(path+str(j))\n",
    "    else:\n",
    "        shutil.rmtree(path+str(j))\n",
    "        os.makedirs(path+str(j))\n",
    "\n",
    "\n",
    "for j in range(0,len(kmeans.labels_)):\n",
    "    filename = path+images_name[j]\n",
    "    dest_dir = path+str(kmeans.labels_[j])\n",
    "    print(filename+\" \"+dest_dir)\n",
    "    shutil.copy(filename, dest_dir)\n",
    "    \n",
    "        "
   ]
  },
  {
   "cell_type": "code",
   "execution_count": 5,
   "metadata": {},
   "outputs": [
    {
     "name": "stdout",
     "output_type": "stream",
     "text": [
      "902.642.18.jpg\n"
     ]
    },
    {
     "name": "stdout",
     "output_type": "stream",
     "text": [
      "[0]\n"
     ]
    }
   ],
   "source": [
    "print(kmeans.predict(extract_vector(path+\"902.642.18.jpg\")))"
   ]
  },
  {
   "cell_type": "code",
   "execution_count": null,
   "metadata": {},
   "outputs": [],
   "source": []
  }
 ],
 "metadata": {
  "kernelspec": {
   "display_name": "Python 2",
   "language": "python",
   "name": "python2"
  },
  "language_info": {
   "codemirror_mode": {
    "name": "ipython",
    "version": 2
   },
   "file_extension": ".py",
   "mimetype": "text/x-python",
   "name": "python",
   "nbconvert_exporter": "python",
   "pygments_lexer": "ipython2",
   "version": "2.7.6"
  }
 },
 "nbformat": 4,
 "nbformat_minor": 0
}
